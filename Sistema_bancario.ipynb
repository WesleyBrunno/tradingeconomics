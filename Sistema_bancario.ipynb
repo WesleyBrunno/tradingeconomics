{
  "nbformat": 4,
  "nbformat_minor": 0,
  "metadata": {
    "colab": {
      "provenance": [],
      "toc_visible": true,
      "authorship_tag": "ABX9TyNoYpx582KkUjaR0ToBneci",
      "include_colab_link": true
    },
    "kernelspec": {
      "name": "python3",
      "display_name": "Python 3"
    },
    "language_info": {
      "name": "python"
    }
  },
  "cells": [
    {
      "cell_type": "markdown",
      "metadata": {
        "id": "view-in-github",
        "colab_type": "text"
      },
      "source": [
        "<a href=\"https://colab.research.google.com/github/WesleyBrunno/tradingeconomics/blob/master/Sistema_bancario.ipynb\" target=\"_parent\"><img src=\"https://colab.research.google.com/assets/colab-badge.svg\" alt=\"Open In Colab\"/></a>"
      ]
    },
    {
      "cell_type": "code",
      "source": [
        "menu = \"\"\"\n",
        "\n",
        "[1] Extrato\n",
        "[2] Deposito\n",
        "[3] Saque\n",
        "[4] Sair\n",
        "\n",
        "=> \"\"\""
      ],
      "metadata": {
        "id": "6yBCKdwqrJCi"
      },
      "execution_count": 5,
      "outputs": []
    },
    {
      "cell_type": "code",
      "source": [
        "saldo = 0\n",
        "limite = 800\n",
        "extrato = \"\"\n",
        "qtde_saques = 0\n",
        "limite_de_saques = 3"
      ],
      "metadata": {
        "id": "06vcR292DeTH"
      },
      "execution_count": 8,
      "outputs": []
    },
    {
      "cell_type": "code",
      "source": [
        "while True:\n",
        "  opc_menu = input(menu)\n",
        "  if opc_menu == \"2\":\n",
        "    valorDeposito = float(input(\"Informe o valor de depóddito: R$ \"))\n",
        "\n",
        "    if valorDeposito > 0:\n",
        "      saldo += valorDeposito\n",
        "      extrato += f\"Depósio: {valorDeposito:.2f}\\n\"\n",
        "\n",
        "    else:\n",
        "      print(\"Erro! Valor inválido.\")\n",
        "\n",
        "  elif opc_menu == \"3\":\n",
        "    valor = float(input(\"Informe o valor de saque: R$ \"))\n",
        "\n",
        "    excedeu_saldo = valorDeposito > saldo\n",
        "    excedeu_saques = qtde_saques >= limite_de_saques\n",
        "    excedeu_limite = valor > limite\n",
        "\n",
        "    if excedeu_saldo:\n",
        "      print(\"Ops, saldo insuficiente.\")\n",
        "\n",
        "    elif excedeu_limite: \n",
        "      print(\"Ops, você excedeu o limite.\")\n",
        "\n",
        "    elif excedeu_saques:\n",
        "      print(\"Ops, número de máximo de saques excedidos\")\n",
        "\n",
        "    elif valor > 0 :\n",
        "      saldo -= valor\n",
        "      extrato += f\"Saque: R$ {valor:.2f}\\n\"\n",
        "      qtde_saques += 1\n",
        "\n",
        "    else:\n",
        "      print(\"Erro! Valor inválido\")\n",
        "\n",
        "  elif opc_menu == \"4\":\n",
        "    break\n",
        "\n",
        "\n",
        "\n",
        "\n",
        "  elif opc_menu == \"1\":\n",
        "    print(\"\\n=========== EXTRATO ==========\")\n",
        "    print(\"Não foram realizados movimentações\" if not extrato else extrato)\n",
        "    print(f\"\\nSaldo: R$ {saldo:.2f}\")\n",
        "    print(\"=============================\")\n"
      ],
      "metadata": {
        "id": "wbQEueFqD5OO"
      },
      "execution_count": null,
      "outputs": []
    }
  ]
}